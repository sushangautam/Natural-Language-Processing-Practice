{
  "nbformat": 4,
  "nbformat_minor": 0,
  "metadata": {
    "colab": {
      "name": "7.Lemmatization.ipynb",
      "provenance": [],
      "authorship_tag": "ABX9TyMbUfRsfCulEUs38/N/AYUp"
    },
    "kernelspec": {
      "name": "python3",
      "display_name": "Python 3"
    }
  },
  "cells": [
    {
      "cell_type": "code",
      "metadata": {
        "id": "TlkjYKNZSndN",
        "outputId": "b842bf9a-e71f-4386-ec3a-73434c5ec125",
        "colab": {
          "base_uri": "https://localhost:8080/"
        }
      },
      "source": [
        "import nltk\n",
        "nltk.download('wordnet')\n",
        "from nltk.stem import WordNetLemmatizer\n",
        "\n",
        "lemmatizer=WordNetLemmatizer()\n",
        "\n",
        "print(lemmatizer.lemmatize(\"cats\"))\n",
        "print(lemmatizer.lemmatize(\"playing\"))\n",
        "print(lemmatizer.lemmatize(\"cracker\"))\n",
        "print(lemmatizer.lemmatize(\"mountains\"))\n",
        "print(lemmatizer.lemmatize(\"stories\"))\n",
        "print(lemmatizer.lemmatize(\"students\"))\n",
        "print(lemmatizer.lemmatize(\"greatest\",pos=\"a\"))\n",
        "print(lemmatizer.lemmatize(\"geese\"))\n",
        "print(lemmatizer.lemmatize(\"rocks\"))\n",
        "print(lemmatizer.lemmatize(\"better\"))\n",
        "print(lemmatizer.lemmatize(\"better\",pos=\"a\"))"
      ],
      "execution_count": 7,
      "outputs": [
        {
          "output_type": "stream",
          "text": [
            "[nltk_data] Downloading package wordnet to /root/nltk_data...\n",
            "[nltk_data]   Package wordnet is already up-to-date!\n",
            "cat\n",
            "playing\n",
            "cracker\n",
            "mountain\n",
            "story\n",
            "student\n",
            "great\n",
            "goose\n",
            "rock\n",
            "better\n",
            "good\n"
          ],
          "name": "stdout"
        }
      ]
    },
    {
      "cell_type": "code",
      "metadata": {
        "id": "c7uThkRMSroo"
      },
      "source": [
        ""
      ],
      "execution_count": null,
      "outputs": []
    }
  ]
}