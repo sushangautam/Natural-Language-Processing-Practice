{
  "nbformat": 4,
  "nbformat_minor": 0,
  "metadata": {
    "colab": {
      "name": "10.Shallow Parsing.ipynb",
      "provenance": [],
      "authorship_tag": "ABX9TyMLPmQ86UOA2Z4Ja8NW183g"
    },
    "kernelspec": {
      "name": "python3",
      "display_name": "Python 3"
    }
  },
  "cells": [
    {
      "cell_type": "code",
      "metadata": {
        "id": "8oaZ7_RwXY9p",
        "outputId": "cf2a3d6f-dcb3-445d-d67c-41bdc1c4c61a",
        "colab": {
          "base_uri": "https://localhost:8080/"
        }
      },
      "source": [
        "import nltk\n",
        "from nltk.tokenize import sent_tokenize, word_tokenize\n",
        "nltk.download('averaged_perceptron_tagger')\n",
        "nltk.download('punkt')"
      ],
      "execution_count": 9,
      "outputs": [
        {
          "output_type": "stream",
          "text": [
            "[nltk_data] Downloading package averaged_perceptron_tagger to\n",
            "[nltk_data]     /root/nltk_data...\n",
            "[nltk_data]   Unzipping taggers/averaged_perceptron_tagger.zip.\n",
            "[nltk_data] Downloading package punkt to /root/nltk_data...\n",
            "[nltk_data]   Package punkt is already up-to-date!\n"
          ],
          "name": "stdout"
        },
        {
          "output_type": "execute_result",
          "data": {
            "text/plain": [
              "True"
            ]
          },
          "metadata": {
            "tags": []
          },
          "execution_count": 9
        }
      ]
    },
    {
      "cell_type": "code",
      "metadata": {
        "id": "9KNVzltZYzY3",
        "outputId": "513887b1-1af5-4ec1-a2e2-02d0b717fb65",
        "colab": {
          "base_uri": "https://localhost:8080/"
        }
      },
      "source": [
        "\n",
        "sentence= [(\"the\", \"DT\"), (\"little\", \"JJ\"), (\"yellow\", \"JJ\"),(\"dog\", \"NN\"), (\"barked\", \"VBD\"), (\"at\", \"IN\"),  (\"the\", \"DT\"), (\"cat\", \"NN\")]\n",
        "grammar=\"NP: {<DT>?<JJ>*<NN>}\"\n",
        "#productions from CFG for NP and VP\n",
        "c=nltk.RegexpParser(grammar)\n",
        "result=c.parse(sentence)\n",
        "print(result)"
      ],
      "execution_count": 2,
      "outputs": [
        {
          "output_type": "stream",
          "text": [
            "(S\n",
            "  (NP the/DT little/JJ yellow/JJ dog/NN)\n",
            "  barked/VBD\n",
            "  at/IN\n",
            "  (NP the/DT cat/NN))\n"
          ],
          "name": "stdout"
        }
      ]
    },
    {
      "cell_type": "code",
      "metadata": {
        "id": "oFQNbnZVY6be"
      },
      "source": [
        "result.draw()"
      ],
      "execution_count": null,
      "outputs": []
    },
    {
      "cell_type": "code",
      "metadata": {
        "id": "EsD-KtInZSEe"
      },
      "source": [
        "lincolns=\"Experts on constitutional and political affairs say sovereignty vested in the people, limited government, the principle of separation of powers, independent judiciary, human rights and fundamental rights and inclusive governance system are the components of constitutionalism. The breach of any of these components means an attack on constitutionalism.\"\n",
        "nltk_tokens=nltk.word_tokenize(lincolns)\n",
        "tokens_speech=nltk.pos_tag(nltk_tokens)\n",
        "nouns=\"NP: {<DT>?<JJ>*<NN>}\""
      ],
      "execution_count": 13,
      "outputs": []
    },
    {
      "cell_type": "code",
      "metadata": {
        "id": "6Sm0-AqEZVXq",
        "outputId": "d79c247b-35ff-48a5-b5aa-6fbd23e1f900",
        "colab": {
          "base_uri": "https://localhost:8080/"
        }
      },
      "source": [
        "d=nltk.RegexpParser(nouns)\n",
        "nextresult=d.parse(tokens_speech)\n",
        "print(nextresult)"
      ],
      "execution_count": 14,
      "outputs": [
        {
          "output_type": "stream",
          "text": [
            "(S\n",
            "  Experts/NNS\n",
            "  on/IN\n",
            "  constitutional/JJ\n",
            "  and/CC\n",
            "  political/JJ\n",
            "  affairs/NNS\n",
            "  say/VBP\n",
            "  (NP sovereignty/NN)\n",
            "  vested/VBN\n",
            "  in/IN\n",
            "  the/DT\n",
            "  people/NNS\n",
            "  ,/,\n",
            "  (NP limited/JJ government/NN)\n",
            "  ,/,\n",
            "  (NP the/DT principle/NN)\n",
            "  of/IN\n",
            "  (NP separation/NN)\n",
            "  of/IN\n",
            "  powers/NNS\n",
            "  ,/,\n",
            "  (NP independent/JJ judiciary/NN)\n",
            "  ,/,\n",
            "  human/JJ\n",
            "  rights/NNS\n",
            "  and/CC\n",
            "  fundamental/JJ\n",
            "  rights/NNS\n",
            "  and/CC\n",
            "  (NP inclusive/JJ governance/NN)\n",
            "  (NP system/NN)\n",
            "  are/VBP\n",
            "  the/DT\n",
            "  components/NNS\n",
            "  of/IN\n",
            "  (NP constitutionalism/NN)\n",
            "  ./.\n",
            "  (NP The/DT breach/NN)\n",
            "  of/IN\n",
            "  any/DT\n",
            "  of/IN\n",
            "  these/DT\n",
            "  components/NNS\n",
            "  means/VBZ\n",
            "  (NP an/DT attack/NN)\n",
            "  on/IN\n",
            "  (NP constitutionalism/NN)\n",
            "  ./.)\n"
          ],
          "name": "stdout"
        }
      ]
    },
    {
      "cell_type": "code",
      "metadata": {
        "id": "t4Osz1hXZonW"
      },
      "source": [
        "nextresult.draw()"
      ],
      "execution_count": null,
      "outputs": []
    }
  ]
}