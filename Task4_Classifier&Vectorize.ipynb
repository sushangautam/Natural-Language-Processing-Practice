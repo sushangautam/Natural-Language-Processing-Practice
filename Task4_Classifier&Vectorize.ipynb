{
  "nbformat": 4,
  "nbformat_minor": 0,
  "metadata": {
    "colab": {
      "name": "Task4-Classifier&Vectorize.ipynb",
      "provenance": [],
      "authorship_tag": "ABX9TyNFmrjtGhdBXpfA9aFvQwTh"
    },
    "kernelspec": {
      "name": "python3",
      "display_name": "Python 3"
    }
  },
  "cells": [
    {
      "cell_type": "code",
      "metadata": {
        "id": "PiEDOm82hDBT"
      },
      "source": [
        "#task 2 simple text classification\n",
        "def gender_features(word):\n",
        "    return {'last_letter':word[-1]}"
      ],
      "execution_count": 10,
      "outputs": []
    },
    {
      "cell_type": "code",
      "metadata": {
        "id": "2Rz7YyRnhGOv",
        "outputId": "8e773088-af8e-462a-db26-27f6943d2506",
        "colab": {
          "base_uri": "https://localhost:8080/"
        }
      },
      "source": [
        "gender_features('Obama')"
      ],
      "execution_count": 11,
      "outputs": [
        {
          "output_type": "execute_result",
          "data": {
            "text/plain": [
              "{'last_letter': 'a'}"
            ]
          },
          "metadata": {
            "tags": []
          },
          "execution_count": 11
        }
      ]
    },
    {
      "cell_type": "code",
      "metadata": {
        "id": "iZG9J8HYhKe9",
        "outputId": "d6b25dd1-dcb8-4679-e99e-a219f9652c39",
        "colab": {
          "base_uri": "https://localhost:8080/"
        }
      },
      "source": [
        "from nltk.corpus import names\n",
        "nltk.download('names')\n",
        "#names.words()\n",
        "print(len(names.words()))"
      ],
      "execution_count": 12,
      "outputs": [
        {
          "output_type": "stream",
          "text": [
            "[nltk_data] Downloading package names to /root/nltk_data...\n",
            "[nltk_data]   Package names is already up-to-date!\n",
            "7944\n"
          ],
          "name": "stdout"
        }
      ]
    },
    {
      "cell_type": "code",
      "metadata": {
        "id": "3NOHwtBBhMJC"
      },
      "source": [
        "labeled_names=([(name,'male')for name in names.words('male.txt')]+[(name,'female') for name in names.words('female.txt')])\n"
      ],
      "execution_count": 13,
      "outputs": []
    },
    {
      "cell_type": "code",
      "metadata": {
        "id": "JigCKvs6hOA1"
      },
      "source": [
        "import random\n",
        "random.shuffle(labeled_names)"
      ],
      "execution_count": 14,
      "outputs": []
    },
    {
      "cell_type": "code",
      "metadata": {
        "id": "f1pEQgezhPty"
      },
      "source": [
        "featuresets=[(gender_features(n),gender) for (n,gender) in labeled_names]\n"
      ],
      "execution_count": 16,
      "outputs": []
    },
    {
      "cell_type": "code",
      "metadata": {
        "id": "X-OCnRa2hRZk"
      },
      "source": [
        "train_set,test_set=featuresets[:5000],featuresets[5000:]\n"
      ],
      "execution_count": 17,
      "outputs": []
    },
    {
      "cell_type": "code",
      "metadata": {
        "id": "kKVaq1-NhS_e"
      },
      "source": [
        "import nltk\n",
        "classifier=nltk.NaiveBayesClassifier.train(train_set)"
      ],
      "execution_count": 18,
      "outputs": []
    },
    {
      "cell_type": "code",
      "metadata": {
        "id": "hgl-LnGVhVH9",
        "outputId": "6a7e6957-faed-4e64-a841-42d485b96290",
        "colab": {
          "base_uri": "https://localhost:8080/",
          "height": 35
        }
      },
      "source": [
        "classifier.classify(gender_features('David'))\n"
      ],
      "execution_count": 19,
      "outputs": [
        {
          "output_type": "execute_result",
          "data": {
            "application/vnd.google.colaboratory.intrinsic+json": {
              "type": "string"
            },
            "text/plain": [
              "'male'"
            ]
          },
          "metadata": {
            "tags": []
          },
          "execution_count": 19
        }
      ]
    },
    {
      "cell_type": "code",
      "metadata": {
        "id": "z9PbjZblhqcG",
        "outputId": "8e4529e0-00ed-49f1-e4ae-b88b238c2990",
        "colab": {
          "base_uri": "https://localhost:8080/",
          "height": 35
        }
      },
      "source": [
        "classifier.classify(gender_features('Sushan'))\n"
      ],
      "execution_count": 20,
      "outputs": [
        {
          "output_type": "execute_result",
          "data": {
            "application/vnd.google.colaboratory.intrinsic+json": {
              "type": "string"
            },
            "text/plain": [
              "'male'"
            ]
          },
          "metadata": {
            "tags": []
          },
          "execution_count": 20
        }
      ]
    },
    {
      "cell_type": "code",
      "metadata": {
        "id": "9N1mDLM8huXN",
        "outputId": "bb2554cf-f9c9-4d82-8fef-297baca86b52",
        "colab": {
          "base_uri": "https://localhost:8080/",
          "height": 35
        }
      },
      "source": [
        "classifier.classify(gender_features('Gautam'))\n"
      ],
      "execution_count": 21,
      "outputs": [
        {
          "output_type": "execute_result",
          "data": {
            "application/vnd.google.colaboratory.intrinsic+json": {
              "type": "string"
            },
            "text/plain": [
              "'male'"
            ]
          },
          "metadata": {
            "tags": []
          },
          "execution_count": 21
        }
      ]
    },
    {
      "cell_type": "code",
      "metadata": {
        "id": "J4zKwM5Vhvfs",
        "outputId": "e3ff9833-2e2a-4562-80bf-e283cb4a3529",
        "colab": {
          "base_uri": "https://localhost:8080/",
          "height": 35
        }
      },
      "source": [
        "classifier.classify(gender_features('Modi'))\n"
      ],
      "execution_count": 22,
      "outputs": [
        {
          "output_type": "execute_result",
          "data": {
            "application/vnd.google.colaboratory.intrinsic+json": {
              "type": "string"
            },
            "text/plain": [
              "'female'"
            ]
          },
          "metadata": {
            "tags": []
          },
          "execution_count": 22
        }
      ]
    },
    {
      "cell_type": "code",
      "metadata": {
        "id": "WfFFV-t3hx5d",
        "outputId": "8a124c39-f583-4f81-f957-2c240aa68ff3",
        "colab": {
          "base_uri": "https://localhost:8080/",
          "height": 35
        }
      },
      "source": [
        "classifier.classify(gender_features('Oli'))\n"
      ],
      "execution_count": 23,
      "outputs": [
        {
          "output_type": "execute_result",
          "data": {
            "application/vnd.google.colaboratory.intrinsic+json": {
              "type": "string"
            },
            "text/plain": [
              "'female'"
            ]
          },
          "metadata": {
            "tags": []
          },
          "execution_count": 23
        }
      ]
    },
    {
      "cell_type": "code",
      "metadata": {
        "id": "4NsTIt8Vhy7s",
        "outputId": "ca9e3f27-74a1-4b51-8318-8026a8818f6b",
        "colab": {
          "base_uri": "https://localhost:8080/"
        }
      },
      "source": [
        "print(nltk.classify.accuracy(classifier,test_set))\n"
      ],
      "execution_count": 24,
      "outputs": [
        {
          "output_type": "stream",
          "text": [
            "0.7635869565217391\n"
          ],
          "name": "stdout"
        }
      ]
    },
    {
      "cell_type": "code",
      "metadata": {
        "id": "f2A7_NKlh0zk"
      },
      "source": [
        "#task 3 count vectorizer\n",
        "from sklearn.feature_extraction.text import CountVectorizer\n",
        "vect=CountVectorizer(binary=True)"
      ],
      "execution_count": 25,
      "outputs": []
    },
    {
      "cell_type": "code",
      "metadata": {
        "id": "v3OQdYKeh3nU"
      },
      "source": [
        "corpus=[\"Tessaract is good optical character recognition engine  \", \"optical character recognition is significant \"]\n"
      ],
      "execution_count": 26,
      "outputs": []
    },
    {
      "cell_type": "code",
      "metadata": {
        "id": "OHFrpfFvh6__",
        "outputId": "e275568c-4471-4069-d646-eadd5fee21fb",
        "colab": {
          "base_uri": "https://localhost:8080/"
        }
      },
      "source": [
        "vect.fit(corpus)\n"
      ],
      "execution_count": 27,
      "outputs": [
        {
          "output_type": "execute_result",
          "data": {
            "text/plain": [
              "CountVectorizer(analyzer='word', binary=True, decode_error='strict',\n",
              "                dtype=<class 'numpy.int64'>, encoding='utf-8', input='content',\n",
              "                lowercase=True, max_df=1.0, max_features=None, min_df=1,\n",
              "                ngram_range=(1, 1), preprocessor=None, stop_words=None,\n",
              "                strip_accents=None, token_pattern='(?u)\\\\b\\\\w\\\\w+\\\\b',\n",
              "                tokenizer=None, vocabulary=None)"
            ]
          },
          "metadata": {
            "tags": []
          },
          "execution_count": 27
        }
      ]
    },
    {
      "cell_type": "code",
      "metadata": {
        "id": "Ey4ZwIvsh866"
      },
      "source": [
        "vocab=vect.vocabulary_\n"
      ],
      "execution_count": 28,
      "outputs": []
    },
    {
      "cell_type": "code",
      "metadata": {
        "id": "dog9NP6th_tM",
        "outputId": "aa820339-e9fa-4f63-a2cc-16a5547f5a05",
        "colab": {
          "base_uri": "https://localhost:8080/"
        }
      },
      "source": [
        "for key in sorted(vocab.keys()):\n",
        "    print(\"{}:{}\".format(key,vocab[key]))"
      ],
      "execution_count": 29,
      "outputs": [
        {
          "output_type": "stream",
          "text": [
            "character:0\n",
            "engine:1\n",
            "good:2\n",
            "is:3\n",
            "optical:4\n",
            "recognition:5\n",
            "significant:6\n",
            "tessaract:7\n"
          ],
          "name": "stdout"
        }
      ]
    },
    {
      "cell_type": "code",
      "metadata": {
        "id": "sb0bCB_JiC4S",
        "outputId": "f745ccbd-d682-4780-8fbf-3ddcd1687a54",
        "colab": {
          "base_uri": "https://localhost:8080/"
        }
      },
      "source": [
        "print(vect.transform([\"This is a good optical illusion\"]).toarray())\n"
      ],
      "execution_count": 30,
      "outputs": [
        {
          "output_type": "stream",
          "text": [
            "[[0 0 1 1 1 0 0 0]]\n"
          ],
          "name": "stdout"
        }
      ]
    }
  ]
}