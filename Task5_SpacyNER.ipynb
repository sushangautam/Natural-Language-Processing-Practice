{
  "nbformat": 4,
  "nbformat_minor": 0,
  "metadata": {
    "colab": {
      "name": "Task5-SpacyNER.ipynb",
      "provenance": [],
      "authorship_tag": "ABX9TyNkPGKm/Zd3jGtVJip8726L"
    },
    "kernelspec": {
      "name": "python3",
      "display_name": "Python 3"
    }
  },
  "cells": [
    {
      "cell_type": "code",
      "metadata": {
        "id": "Azz2wTIDigM9"
      },
      "source": [
        "import spacy"
      ],
      "execution_count": 1,
      "outputs": []
    },
    {
      "cell_type": "code",
      "metadata": {
        "id": "aeNn9eWZioh4"
      },
      "source": [
        "m = spacy.load('en_core_web_sm')\n"
      ],
      "execution_count": 2,
      "outputs": []
    },
    {
      "cell_type": "code",
      "metadata": {
        "id": "UL27KjcpiqpW"
      },
      "source": [
        "sampletext=\"When asked about the WHO’s interim report, Dr Pradip Gyanwali, executive chief of Nepal Health Research Council, said that the WHO’s interim report is yet to be peer- reviewed, which means the report should be scrutinised by experts from the same field to ensure its scientific quality.\""
      ],
      "execution_count": 3,
      "outputs": []
    },
    {
      "cell_type": "code",
      "metadata": {
        "id": "R_qoYfAQi3GW"
      },
      "source": [
        "doc=m(sampletext)\n"
      ],
      "execution_count": 4,
      "outputs": []
    },
    {
      "cell_type": "code",
      "metadata": {
        "id": "wj9YgV45i4xD",
        "outputId": "c101ae40-dd58-46dc-8eae-1d37c82d2930",
        "colab": {
          "base_uri": "https://localhost:8080/"
        }
      },
      "source": [
        "for ent in doc.ents:\n",
        "  print(ent.text,ent.label_)"
      ],
      "execution_count": 5,
      "outputs": [
        {
          "output_type": "stream",
          "text": [
            "WHO ORG\n",
            "Pradip Gyanwali PERSON\n",
            "Nepal Health Research Council ORG\n",
            "WHO ORG\n"
          ],
          "name": "stdout"
        }
      ]
    },
    {
      "cell_type": "code",
      "metadata": {
        "id": "0YlZxl0Ci7L8"
      },
      "source": [
        "sampletext2=\"The cultural heritage of the Kathmandu Valley is illustrated by seven groups of monuments and buildings which display the full range of historic and artistic achievements for which the Kathmandu Valley is world famous. The seven include the Durbar Squares of Hanuman Dhoka (Kathmandu), Patan and Bhaktapur, the Buddhist stupas of Swayambhu and Bauddhanath and the Hindu temples of Pashupati and Changu Narayan.\""
      ],
      "execution_count": 7,
      "outputs": []
    },
    {
      "cell_type": "code",
      "metadata": {
        "id": "xFM7euAXjY3u"
      },
      "source": [
        "doc2=m(sampletext2)\n"
      ],
      "execution_count": 8,
      "outputs": []
    },
    {
      "cell_type": "code",
      "metadata": {
        "id": "YFB88d4fjeMO",
        "outputId": "c8e9dc6d-6637-4534-fb13-4fa0c8486a41",
        "colab": {
          "base_uri": "https://localhost:8080/"
        }
      },
      "source": [
        "for ent in doc2.ents:\n",
        "  print(ent.text,ent.label_)"
      ],
      "execution_count": 9,
      "outputs": [
        {
          "output_type": "stream",
          "text": [
            "the Kathmandu Valley LOC\n",
            "seven CARDINAL\n",
            "the Kathmandu Valley LOC\n",
            "seven CARDINAL\n",
            "the Durbar Squares PRODUCT\n",
            "Hanuman Dhoka (Kathmandu ORG\n",
            "Patan GPE\n",
            "Bhaktapur GPE\n",
            "Buddhist NORP\n",
            "Swayambhu LOC\n",
            "Hindu NORP\n",
            "Pashupati ORG\n",
            "Changu Narayan PERSON\n"
          ],
          "name": "stdout"
        }
      ]
    },
    {
      "cell_type": "code",
      "metadata": {
        "id": "_306slVZjgn_"
      },
      "source": [
        "text1=\"Himalaya, is a mountain range in Asia separating the plains of the Indian subcontinent from the Tibetan Plateau. The range has many of Earth's highest peaks, including the highest, Mount Everest, at the border between Nepal and China.\""
      ],
      "execution_count": 10,
      "outputs": []
    },
    {
      "cell_type": "code",
      "metadata": {
        "id": "PgSeXJFkjkio"
      },
      "source": [
        "doc1=m(text1)\n"
      ],
      "execution_count": 11,
      "outputs": []
    },
    {
      "cell_type": "code",
      "metadata": {
        "id": "2XqPIvKqjmZQ",
        "outputId": "62cb97d5-290b-4e01-ee28-0b309e86f49b",
        "colab": {
          "base_uri": "https://localhost:8080/"
        }
      },
      "source": [
        "for ent in doc1.ents:\n",
        "  print(ent.text,ent.label_)"
      ],
      "execution_count": 12,
      "outputs": [
        {
          "output_type": "stream",
          "text": [
            "Himalaya ORG\n",
            "Asia LOC\n",
            "Indian NORP\n",
            "the Tibetan Plateau LOC\n",
            "Earth LOC\n",
            "Mount Everest LOC\n",
            "Nepal GPE\n",
            "China GPE\n"
          ],
          "name": "stdout"
        }
      ]
    },
    {
      "cell_type": "code",
      "metadata": {
        "id": "pdd666lcjoKY"
      },
      "source": [
        "text2=\"The date and time was 12/12/2020 07:50:50 PM and you came here 17 hours ago from this time.\"\n",
        "doc2=m(text2)"
      ],
      "execution_count": 13,
      "outputs": []
    },
    {
      "cell_type": "code",
      "metadata": {
        "id": "_nR7xC6Cj1W5",
        "outputId": "abc4b29e-af34-4d08-fbe2-ea68ddc8b063",
        "colab": {
          "base_uri": "https://localhost:8080/"
        }
      },
      "source": [
        "for ent2 in doc2.ents:\n",
        "  print(ent2.text,ent2.label)"
      ],
      "execution_count": 14,
      "outputs": [
        {
          "output_type": "stream",
          "text": [
            "17 hours ago 392\n"
          ],
          "name": "stdout"
        }
      ]
    }
  ]
}