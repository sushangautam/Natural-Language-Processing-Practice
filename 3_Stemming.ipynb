{
  "nbformat": 4,
  "nbformat_minor": 0,
  "metadata": {
    "colab": {
      "name": "3. Stemming.ipynb",
      "provenance": [],
      "authorship_tag": "ABX9TyNiBX6L0TmAXj0fxHUGI+ov"
    },
    "kernelspec": {
      "name": "python3",
      "display_name": "Python 3"
    }
  },
  "cells": [
    {
      "cell_type": "code",
      "metadata": {
        "id": "mCVINmcQBMoc",
        "outputId": "9959ec63-d97b-45aa-dfd5-2253114a165f",
        "colab": {
          "base_uri": "https://localhost:8080/"
        }
      },
      "source": [
        "import nltk\n",
        "nltk.download('punkt')"
      ],
      "execution_count": 2,
      "outputs": [
        {
          "output_type": "stream",
          "text": [
            "[nltk_data] Downloading package punkt to /root/nltk_data...\n",
            "[nltk_data]   Unzipping tokenizers/punkt.zip.\n"
          ],
          "name": "stdout"
        },
        {
          "output_type": "execute_result",
          "data": {
            "text/plain": [
              "True"
            ]
          },
          "metadata": {
            "tags": []
          },
          "execution_count": 2
        }
      ]
    },
    {
      "cell_type": "code",
      "metadata": {
        "id": "oFWdZ_5VA24t"
      },
      "source": [
        "from nltk.stem import PorterStemmer\n",
        "from nltk.tokenize import word_tokenize"
      ],
      "execution_count": 1,
      "outputs": []
    },
    {
      "cell_type": "code",
      "metadata": {
        "id": "m62-x-GABLzW",
        "outputId": "81e9f633-45cf-4a65-b00a-61c490d5cbdd",
        "colab": {
          "base_uri": "https://localhost:8080/"
        }
      },
      "source": [
        "ps=PorterStemmer()\n",
        "text1=\"Nepal’s constitution that declared Nepal a democratic federal republic turned five last month. Observers, however, say over the years, many of the key agencies, most notably the federal government, and political leaders in Kathmandu have taken so many actions that undermine the spirit of the constitution. According to them, the fundamental problem is Nepali leaders who drafted the constitution themselves have failed to comprehend what constitutionalism means.\"\n",
        "words=word_tokenize(text1)\n",
        "for w in words:\n",
        "    print(ps.stem(w))"
      ],
      "execution_count": 3,
      "outputs": [
        {
          "output_type": "stream",
          "text": [
            "nepal\n",
            "’\n",
            "s\n",
            "constitut\n",
            "that\n",
            "declar\n",
            "nepal\n",
            "a\n",
            "democrat\n",
            "feder\n",
            "republ\n",
            "turn\n",
            "five\n",
            "last\n",
            "month\n",
            ".\n",
            "observ\n",
            ",\n",
            "howev\n",
            ",\n",
            "say\n",
            "over\n",
            "the\n",
            "year\n",
            ",\n",
            "mani\n",
            "of\n",
            "the\n",
            "key\n",
            "agenc\n",
            ",\n",
            "most\n",
            "notabl\n",
            "the\n",
            "feder\n",
            "govern\n",
            ",\n",
            "and\n",
            "polit\n",
            "leader\n",
            "in\n",
            "kathmandu\n",
            "have\n",
            "taken\n",
            "so\n",
            "mani\n",
            "action\n",
            "that\n",
            "undermin\n",
            "the\n",
            "spirit\n",
            "of\n",
            "the\n",
            "constitut\n",
            ".\n",
            "accord\n",
            "to\n",
            "them\n",
            ",\n",
            "the\n",
            "fundament\n",
            "problem\n",
            "is\n",
            "nepali\n",
            "leader\n",
            "who\n",
            "draft\n",
            "the\n",
            "constitut\n",
            "themselv\n",
            "have\n",
            "fail\n",
            "to\n",
            "comprehend\n",
            "what\n",
            "constitution\n",
            "mean\n",
            ".\n"
          ],
          "name": "stdout"
        }
      ]
    }
  ]
}