{
  "nbformat": 4,
  "nbformat_minor": 0,
  "metadata": {
    "colab": {
      "name": "Tokenization of Words and Sentences.ipynb",
      "provenance": [],
      "authorship_tag": "ABX9TyPvbQSkt9ADTQfeo6VXVzfB"
    },
    "kernelspec": {
      "name": "python3",
      "display_name": "Python 3"
    }
  },
  "cells": [
    {
      "cell_type": "code",
      "metadata": {
        "id": "DJHUt12uvQnf",
        "outputId": "a5839d59-b79e-48d8-f55d-8d903a76c144",
        "colab": {
          "base_uri": "https://localhost:8080/"
        }
      },
      "source": [
        "import nltk\n",
        "nltk.download('punkt')"
      ],
      "execution_count": 2,
      "outputs": [
        {
          "output_type": "stream",
          "text": [
            "[nltk_data] Downloading package punkt to /root/nltk_data...\n",
            "[nltk_data]   Unzipping tokenizers/punkt.zip.\n"
          ],
          "name": "stdout"
        },
        {
          "output_type": "execute_result",
          "data": {
            "text/plain": [
              "True"
            ]
          },
          "metadata": {
            "tags": []
          },
          "execution_count": 2
        }
      ]
    },
    {
      "cell_type": "code",
      "metadata": {
        "id": "u1W85EsOtP85",
        "outputId": "5f19e94a-e9fc-46e6-ea0f-4ac57bd7aeee",
        "colab": {
          "base_uri": "https://localhost:8080/"
        }
      },
      "source": [
        "from nltk.tokenize import sent_tokenize, word_tokenize\n",
        "text1=\"Hello, how you doing ? You are at Sushan Gautam's github repository. Play around here to get grasp of various natural language exercises.\"\n",
        "print(sent_tokenize(text1))\n",
        "print(word_tokenize(text1))"
      ],
      "execution_count": 3,
      "outputs": [
        {
          "output_type": "stream",
          "text": [
            "['Hello, how you doing ?', \"You are at Sushan Gautam's github repository.\", 'Play around here to get grasp of various natural language exercises.']\n",
            "['Hello', ',', 'how', 'you', 'doing', '?', 'You', 'are', 'at', 'Sushan', 'Gautam', \"'s\", 'github', 'repository', '.', 'Play', 'around', 'here', 'to', 'get', 'grasp', 'of', 'various', 'natural', 'language', 'exercises', '.']\n"
          ],
          "name": "stdout"
        }
      ]
    },
    {
      "cell_type": "code",
      "metadata": {
        "id": "bk3qCfA0vEHq",
        "outputId": "3eb13417-4f1e-4d24-f256-b9ee616afa91",
        "colab": {
          "base_uri": "https://localhost:8080/"
        }
      },
      "source": [
        "for i in word_tokenize(text1):\n",
        "    print(i)"
      ],
      "execution_count": 4,
      "outputs": [
        {
          "output_type": "stream",
          "text": [
            "Hello\n",
            ",\n",
            "how\n",
            "you\n",
            "doing\n",
            "?\n",
            "You\n",
            "are\n",
            "at\n",
            "Sushan\n",
            "Gautam\n",
            "'s\n",
            "github\n",
            "repository\n",
            ".\n",
            "Play\n",
            "around\n",
            "here\n",
            "to\n",
            "get\n",
            "grasp\n",
            "of\n",
            "various\n",
            "natural\n",
            "language\n",
            "exercises\n",
            ".\n"
          ],
          "name": "stdout"
        }
      ]
    },
    {
      "cell_type": "code",
      "metadata": {
        "id": "SBwdpumGvat4",
        "outputId": "e857e5f2-3ca9-4a79-96ea-807910f508eb",
        "colab": {
          "base_uri": "https://localhost:8080/"
        }
      },
      "source": [
        "for i in sent_tokenize(text1):\n",
        "    print(i)"
      ],
      "execution_count": 5,
      "outputs": [
        {
          "output_type": "stream",
          "text": [
            "Hello, how you doing ?\n",
            "You are at Sushan Gautam's github repository.\n",
            "Play around here to get grasp of various natural language exercises.\n"
          ],
          "name": "stdout"
        }
      ]
    },
    {
      "cell_type": "code",
      "metadata": {
        "id": "UQ0PE265vdZA"
      },
      "source": [
        ""
      ],
      "execution_count": null,
      "outputs": []
    }
  ]
}