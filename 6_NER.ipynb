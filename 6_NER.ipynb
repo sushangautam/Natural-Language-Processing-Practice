{
  "nbformat": 4,
  "nbformat_minor": 0,
  "metadata": {
    "colab": {
      "name": "6NER.ipynb",
      "provenance": [],
      "authorship_tag": "ABX9TyPUnW9yq2zfjNlRX7P97ZrM"
    },
    "kernelspec": {
      "name": "python3",
      "display_name": "Python 3"
    }
  },
  "cells": [
    {
      "cell_type": "code",
      "metadata": {
        "id": "gpc-mzDROEhb",
        "outputId": "468fa93c-fb2c-4bc0-906b-b4c61fa0bff8",
        "colab": {
          "base_uri": "https://localhost:8080/"
        }
      },
      "source": [
        "import nltk\n",
        "nltk.download('state_union')\n",
        "nltk.download('punkt')\n",
        "nltk.download('maxent_ne_chunker')\n",
        "nltk.download('words')\n",
        "nltk.download('averaged_perceptron_tagger')\n",
        "from nltk.corpus import state_union\n",
        "from nltk.tokenize import PunktSentenceTokenizer"
      ],
      "execution_count": 11,
      "outputs": [
        {
          "output_type": "stream",
          "text": [
            "[nltk_data] Downloading package state_union to /root/nltk_data...\n",
            "[nltk_data]   Package state_union is already up-to-date!\n",
            "[nltk_data] Downloading package punkt to /root/nltk_data...\n",
            "[nltk_data]   Package punkt is already up-to-date!\n",
            "[nltk_data] Downloading package maxent_ne_chunker to\n",
            "[nltk_data]     /root/nltk_data...\n",
            "[nltk_data]   Package maxent_ne_chunker is already up-to-date!\n",
            "[nltk_data] Downloading package words to /root/nltk_data...\n",
            "[nltk_data]   Unzipping corpora/words.zip.\n",
            "[nltk_data] Downloading package averaged_perceptron_tagger to\n",
            "[nltk_data]     /root/nltk_data...\n",
            "[nltk_data]   Package averaged_perceptron_tagger is already up-to-\n",
            "[nltk_data]       date!\n"
          ],
          "name": "stdout"
        }
      ]
    },
    {
      "cell_type": "code",
      "metadata": {
        "id": "-H4H8PqNOH_W"
      },
      "source": [
        "import nltk\n",
        "from nltk.tokenize import word_tokenize\n",
        "from nltk.tag import pos_tag"
      ],
      "execution_count": 13,
      "outputs": []
    },
    {
      "cell_type": "code",
      "metadata": {
        "id": "tuuBigOjOPk4"
      },
      "source": [
        "ex = 'European authorities fined Google a record $5.1 billion on Wednesday for abusing its power in the mobile phone market and ordered the company to alter its practices'\n"
      ],
      "execution_count": 14,
      "outputs": []
    },
    {
      "cell_type": "code",
      "metadata": {
        "id": "0UpCFWxLQuuq"
      },
      "source": [
        "def preprocess(sent):\n",
        "    sent = nltk.word_tokenize(sent)\n",
        "    sent = nltk.pos_tag(sent)\n",
        "    return sent"
      ],
      "execution_count": 15,
      "outputs": []
    },
    {
      "cell_type": "code",
      "metadata": {
        "id": "DhbaMFi_QwjQ",
        "outputId": "ba500725-4af0-4e45-caf2-d3bd7cf92046",
        "colab": {
          "base_uri": "https://localhost:8080/"
        }
      },
      "source": [
        "sent = preprocess(ex)\n",
        "sent"
      ],
      "execution_count": 16,
      "outputs": [
        {
          "output_type": "execute_result",
          "data": {
            "text/plain": [
              "[('European', 'JJ'),\n",
              " ('authorities', 'NNS'),\n",
              " ('fined', 'VBD'),\n",
              " ('Google', 'NNP'),\n",
              " ('a', 'DT'),\n",
              " ('record', 'NN'),\n",
              " ('$', '$'),\n",
              " ('5.1', 'CD'),\n",
              " ('billion', 'CD'),\n",
              " ('on', 'IN'),\n",
              " ('Wednesday', 'NNP'),\n",
              " ('for', 'IN'),\n",
              " ('abusing', 'VBG'),\n",
              " ('its', 'PRP$'),\n",
              " ('power', 'NN'),\n",
              " ('in', 'IN'),\n",
              " ('the', 'DT'),\n",
              " ('mobile', 'JJ'),\n",
              " ('phone', 'NN'),\n",
              " ('market', 'NN'),\n",
              " ('and', 'CC'),\n",
              " ('ordered', 'VBD'),\n",
              " ('the', 'DT'),\n",
              " ('company', 'NN'),\n",
              " ('to', 'TO'),\n",
              " ('alter', 'VB'),\n",
              " ('its', 'PRP$'),\n",
              " ('practices', 'NNS')]"
            ]
          },
          "metadata": {
            "tags": []
          },
          "execution_count": 16
        }
      ]
    },
    {
      "cell_type": "code",
      "metadata": {
        "id": "KRhfj2W8QyAY"
      },
      "source": [
        "ex = \"Nepal’s constitution that declared Nepal a democratic federal republic turned five last month. Observers, however, say over the years, many of the key agencies, most notably the federal government, and political leaders in Kathmandu have taken so many actions that undermine the spirit of the constitution. According to them, the fundamental problem is Nepali leaders who drafted the constitution themselves have failed to comprehend what constitutionalism means.\""
      ],
      "execution_count": 17,
      "outputs": []
    },
    {
      "cell_type": "code",
      "metadata": {
        "id": "sT1SgQHkRn7R"
      },
      "source": [
        "def preprocess(sent):\n",
        "    sent = nltk.word_tokenize(sent)\n",
        "    sent = nltk.pos_tag(sent)\n",
        "    return sent"
      ],
      "execution_count": 18,
      "outputs": []
    },
    {
      "cell_type": "code",
      "metadata": {
        "id": "QngwfWTXRp9B",
        "outputId": "1ea18b44-400c-4089-8ad2-d32c5e80e63a",
        "colab": {
          "base_uri": "https://localhost:8080/"
        }
      },
      "source": [
        "sent = preprocess(ex)\n",
        "sent"
      ],
      "execution_count": 19,
      "outputs": [
        {
          "output_type": "execute_result",
          "data": {
            "text/plain": [
              "[('Nepal', 'NNP'),\n",
              " ('’', 'NNP'),\n",
              " ('s', 'POS'),\n",
              " ('constitution', 'NN'),\n",
              " ('that', 'WDT'),\n",
              " ('declared', 'VBD'),\n",
              " ('Nepal', 'NNP'),\n",
              " ('a', 'DT'),\n",
              " ('democratic', 'JJ'),\n",
              " ('federal', 'JJ'),\n",
              " ('republic', 'NN'),\n",
              " ('turned', 'VBD'),\n",
              " ('five', 'CD'),\n",
              " ('last', 'JJ'),\n",
              " ('month', 'NN'),\n",
              " ('.', '.'),\n",
              " ('Observers', 'NNS'),\n",
              " (',', ','),\n",
              " ('however', 'RB'),\n",
              " (',', ','),\n",
              " ('say', 'VBP'),\n",
              " ('over', 'IN'),\n",
              " ('the', 'DT'),\n",
              " ('years', 'NNS'),\n",
              " (',', ','),\n",
              " ('many', 'JJ'),\n",
              " ('of', 'IN'),\n",
              " ('the', 'DT'),\n",
              " ('key', 'NN'),\n",
              " ('agencies', 'NNS'),\n",
              " (',', ','),\n",
              " ('most', 'JJS'),\n",
              " ('notably', 'RB'),\n",
              " ('the', 'DT'),\n",
              " ('federal', 'JJ'),\n",
              " ('government', 'NN'),\n",
              " (',', ','),\n",
              " ('and', 'CC'),\n",
              " ('political', 'JJ'),\n",
              " ('leaders', 'NNS'),\n",
              " ('in', 'IN'),\n",
              " ('Kathmandu', 'NNP'),\n",
              " ('have', 'VBP'),\n",
              " ('taken', 'VBN'),\n",
              " ('so', 'RB'),\n",
              " ('many', 'JJ'),\n",
              " ('actions', 'NNS'),\n",
              " ('that', 'WDT'),\n",
              " ('undermine', 'VBP'),\n",
              " ('the', 'DT'),\n",
              " ('spirit', 'NN'),\n",
              " ('of', 'IN'),\n",
              " ('the', 'DT'),\n",
              " ('constitution', 'NN'),\n",
              " ('.', '.'),\n",
              " ('According', 'VBG'),\n",
              " ('to', 'TO'),\n",
              " ('them', 'PRP'),\n",
              " (',', ','),\n",
              " ('the', 'DT'),\n",
              " ('fundamental', 'JJ'),\n",
              " ('problem', 'NN'),\n",
              " ('is', 'VBZ'),\n",
              " ('Nepali', 'NNP'),\n",
              " ('leaders', 'NNS'),\n",
              " ('who', 'WP'),\n",
              " ('drafted', 'VBD'),\n",
              " ('the', 'DT'),\n",
              " ('constitution', 'NN'),\n",
              " ('themselves', 'PRP'),\n",
              " ('have', 'VBP'),\n",
              " ('failed', 'VBN'),\n",
              " ('to', 'TO'),\n",
              " ('comprehend', 'VB'),\n",
              " ('what', 'WP'),\n",
              " ('constitutionalism', 'NN'),\n",
              " ('means', 'VBZ'),\n",
              " ('.', '.')]"
            ]
          },
          "metadata": {
            "tags": []
          },
          "execution_count": 19
        }
      ]
    },
    {
      "cell_type": "code",
      "metadata": {
        "id": "zSxwWHU4Rrl_"
      },
      "source": [
        ""
      ],
      "execution_count": null,
      "outputs": []
    }
  ]
}